{
 "cells": [
  {
   "cell_type": "markdown",
   "metadata": {},
   "source": [
    "* conda activate gdal\n",
    "* Kernel > Change kernel > gdal\n",
    "* API Reference : <a href=\"https://gdal.org/tutorials/raster_api_tut.html\">raster api</a>\n",
    "* Raster data model: <a href=\"https://gdal.org/user/raster_data_model.html#raster-data-model\">raster data model</a>\n",
    "* Python API : <a href=\"https://gdal.org/python/index.html\">GDAL Python</a>"
   ]
  },
  {
   "cell_type": "code",
   "execution_count": 1,
   "metadata": {},
   "outputs": [],
   "source": [
    "import gdal"
   ]
  },
  {
   "cell_type": "code",
   "execution_count": 2,
   "metadata": {},
   "outputs": [],
   "source": [
    "from gdal import Open"
   ]
  },
  {
   "cell_type": "code",
   "execution_count": 3,
   "metadata": {},
   "outputs": [],
   "source": [
    "# Open NIR image\n",
    "nir_tiff = Open(r'../ndvi/NIR_IMAGE.tif')"
   ]
  },
  {
   "cell_type": "markdown",
   "metadata": {},
   "source": [
    "## Getting Dataset Information"
   ]
  },
  {
   "cell_type": "code",
   "execution_count": 4,
   "metadata": {},
   "outputs": [
    {
     "data": {
      "text/plain": [
       "<osgeo.gdal.Dataset; proxy of <Swig Object of type 'GDALDatasetShadow *' at 0x0000021354ED5900> >"
      ]
     },
     "execution_count": 4,
     "metadata": {},
     "output_type": "execute_result"
    }
   ],
   "source": [
    "nir_tiff"
   ]
  },
  {
   "cell_type": "code",
   "execution_count": 5,
   "metadata": {},
   "outputs": [
    {
     "name": "stdout",
     "output_type": "stream",
     "text": [
      "Driver: GTiff/GeoTIFF\n"
     ]
    }
   ],
   "source": [
    "print(\"Driver: {}/{}\".format(nir_tiff.GetDriver().ShortName, nir_tiff.GetDriver().LongName))"
   ]
  },
  {
   "cell_type": "code",
   "execution_count": 6,
   "metadata": {},
   "outputs": [
    {
     "name": "stdout",
     "output_type": "stream",
     "text": [
      "Size is 733 x 815 x 1\n"
     ]
    }
   ],
   "source": [
    "print(\"Size is {} x {} x {}\".format(nir_tiff.RasterXSize,\n",
    "                                    nir_tiff.RasterYSize,\n",
    "                                    nir_tiff.RasterCount))"
   ]
  },
  {
   "cell_type": "code",
   "execution_count": 7,
   "metadata": {},
   "outputs": [
    {
     "name": "stdout",
     "output_type": "stream",
     "text": [
      "Projection is PROJCS[\"WGS 84 / UTM zone 20N\",GEOGCS[\"WGS 84\",DATUM[\"WGS_1984\",SPHEROID[\"WGS 84\",6378137,298.257223563,AUTHORITY[\"EPSG\",\"7030\"]],AUTHORITY[\"EPSG\",\"6326\"]],PRIMEM[\"Greenwich\",0,AUTHORITY[\"EPSG\",\"8901\"]],UNIT[\"degree\",0.0174532925199433,AUTHORITY[\"EPSG\",\"9122\"]],AUTHORITY[\"EPSG\",\"4326\"]],PROJECTION[\"Transverse_Mercator\"],PARAMETER[\"latitude_of_origin\",0],PARAMETER[\"central_meridian\",-63],PARAMETER[\"scale_factor\",0.9996],PARAMETER[\"false_easting\",500000],PARAMETER[\"false_northing\",0],UNIT[\"metre\",1,AUTHORITY[\"EPSG\",\"9001\"]],AXIS[\"Easting\",EAST],AXIS[\"Northing\",NORTH],AUTHORITY[\"EPSG\",\"32620\"]]\n"
     ]
    }
   ],
   "source": [
    "print(\"Projection is {}\".format(nir_tiff.GetProjection()))"
   ]
  },
  {
   "cell_type": "code",
   "execution_count": 8,
   "metadata": {},
   "outputs": [],
   "source": [
    "geotransform = nir_tiff.GetGeoTransform()"
   ]
  },
  {
   "cell_type": "code",
   "execution_count": 9,
   "metadata": {},
   "outputs": [
    {
     "name": "stdout",
     "output_type": "stream",
     "text": [
      "Origin = (442174.4222797852, 4958813.451288713)\n",
      "Pixel Size = (30.020199756737572, -29.999736089556496)\n"
     ]
    }
   ],
   "source": [
    "if geotransform:\n",
    "    print(\"Origin = ({}, {})\".format(geotransform[0], geotransform[3]))\n",
    "    print(\"Pixel Size = ({}, {})\".format(geotransform[1], geotransform[5]))"
   ]
  },
  {
   "cell_type": "markdown",
   "metadata": {},
   "source": [
    "## Fetching a Raster Band"
   ]
  },
  {
   "cell_type": "code",
   "execution_count": 10,
   "metadata": {},
   "outputs": [],
   "source": [
    "nir_band = nir_tiff.GetRasterBand(1)"
   ]
  },
  {
   "cell_type": "code",
   "execution_count": 11,
   "metadata": {},
   "outputs": [
    {
     "data": {
      "text/plain": [
       "<osgeo.gdal.Band; proxy of <Swig Object of type 'GDALRasterBandShadow *' at 0x0000021355237900> >"
      ]
     },
     "execution_count": 11,
     "metadata": {},
     "output_type": "execute_result"
    }
   ],
   "source": [
    "nir_band"
   ]
  },
  {
   "cell_type": "code",
   "execution_count": 19,
   "metadata": {},
   "outputs": [
    {
     "name": "stdout",
     "output_type": "stream",
     "text": [
      "3 733 815\n"
     ]
    }
   ],
   "source": [
    "print(nir_band.DataType, nir_band.XSize, nir_band.YSize)"
   ]
  },
  {
   "cell_type": "code",
   "execution_count": 22,
   "metadata": {},
   "outputs": [
    {
     "name": "stdout",
     "output_type": "stream",
     "text": [
      "1\n"
     ]
    }
   ],
   "source": [
    "print(nir_band.GetBand())"
   ]
  },
  {
   "cell_type": "code",
   "execution_count": 23,
   "metadata": {},
   "outputs": [
    {
     "name": "stdout",
     "output_type": "stream",
     "text": [
      "Band Type=Int16\n"
     ]
    }
   ],
   "source": [
    "print(\"Band Type={}\".format(gdal.GetDataTypeName(nir_band.DataType)))"
   ]
  },
  {
   "cell_type": "code",
   "execution_count": 13,
   "metadata": {},
   "outputs": [],
   "source": [
    "min = nir_band.GetMinimum()\n",
    "max = nir_band.GetMaximum()"
   ]
  },
  {
   "cell_type": "code",
   "execution_count": 14,
   "metadata": {},
   "outputs": [
    {
     "name": "stdout",
     "output_type": "stream",
     "text": [
      "Min=-100.000, Max=8388.000\n"
     ]
    }
   ],
   "source": [
    "if not min or not max:\n",
    "    (min,max) = nir_band.ComputeRasterMinMax(True)\n",
    "    print(\"Min={:.3f}, Max={:.3f}\".format(min,max))"
   ]
  },
  {
   "cell_type": "code",
   "execution_count": 15,
   "metadata": {},
   "outputs": [],
   "source": [
    "if nir_band.GetOverviewCount() > 0:\n",
    "    print(\"Band has {} overviews\".format(nir_band.GetOverviewCount()))"
   ]
  },
  {
   "cell_type": "code",
   "execution_count": 16,
   "metadata": {},
   "outputs": [],
   "source": [
    "if nir_band.GetRasterColorTable():\n",
    "    print(\"Band has a color table with {} entries\".format(nir_band.GetRasterColorTable().GetCount()))"
   ]
  },
  {
   "cell_type": "markdown",
   "metadata": {},
   "source": [
    "## Reading Raster Data"
   ]
  },
  {
   "cell_type": "code",
   "execution_count": 24,
   "metadata": {},
   "outputs": [],
   "source": [
    "scanline = nir_band.ReadRaster(xoff=0, yoff=0,\n",
    "                        xsize=nir_band.XSize, ysize=1,\n",
    "                        buf_xsize=nir_band.XSize, buf_ysize=1,\n",
    "                        buf_type=gdal.GDT_Float32)"
   ]
  },
  {
   "cell_type": "code",
   "execution_count": 25,
   "metadata": {},
   "outputs": [
    {
     "data": {
      "text/plain": [
       "b'\\x00\\x00\\xdbD\\x00\\xf0\\x1aE\\x00\\x10@E\\x000\\x0bE\\x00`\\xecD\\x00\\xc0\\xfdD\\x00\\xb0\\x10E\\x00`\\xf9D\\x00@\\xdfD\\x00@\\xc6D\\x00 \\xc9D\\x00\\xc0\\xd9D\\x00\\x80\\xd2D\\x00\\x00\\xafD\\x00\\xa0\\xc6D\\x00@\\xdfD\\x00 \\x07E\\x00\\x00\\x06E\\x00`\\xc5D\\x00 \\xa5D\\x00\\xc0\\xb2D\\x00\\xe0\\xfbD\\x00`\\x16E\\x00P\\x1cE\\x00\\xe0)E\\x00\\x10DE\\x00P/E\\x00\\x10\\x19E\\x00\\x90\\x15E\\x00\\xa0\\xffD\\x00 \\x06E\\x00`\\x0bE\\x00@\\x03E\\x00\\xa0\\xf0D\\x00@\\xecD\\x00\\xd0\\x0eE\\x00`\\x14E\\x00\\xf0\\x03E\\x00\\xb0\\x01E\\x00`\\x1eE\\x00P\\x05E\\x000\\tE\\x00\\x00\\x0cE\\x00\\xc0-E\\x00\\xc0\\xfeD\\x00`\\xe1D\\x00\\xa03E\\x00 TE\\x00\\x98\\x87E\\x00h\\x86E\\x00\\xc0UE\\x00 &E\\x00\\xb0\\x0bE\\x00\\xe0\\nE\\x00\\xf0\\x13E\\x00\\x90\\nE\\x00\\xa0\\xc7D\\x00\\xd0\\x12E\\x00 \\x00E\\x00`\\x05E\\x00\\x00\\xf0D\\x00`\\xd3D\\x00@\\xbfD\\x00`\\xb4D\\x00@\\xfcD\\x00 \\xfcD\\x00\\x10\"E\\x00\\xd0/E\\x00\\xa0EE\\x00\\xa0\\x08E\\x00\\x00\\xe9D\\x00\\xc0 E\\x00\\x80&E\\x00\\xf0>E\\x00\\xa0\\x1aE\\x00\\xe0\\xeaD\\x00p\\x00E\\x00\\xd0<E\\x00\\x80\\xabD\\x00@\\x1cE\\x00\\xe0\\x14E\\x00\\x00\\xb1D\\x00\\xc0\\xb8D\\x00\\xe0\\x01E\\x00P\\x0fE\\x00\\x80,E\\x00\\xd0\\x07E\\x00\\x80\\x18E\\x00\\xe0\\xeeD\\x00`.E\\x00 \\xdfD\\x00\\xc0\\xf0D\\x00`\\xc8D\\x00\\xc0\\x10E\\x00\\x00\\x02E\\x00`\\xe8D\\x00\\xb0\\x14E\\x00\\xd0&E\\x00\\x80\\tE\\x00\\x00\\x06E\\x00\\x80\\x04E\\x00\\x00\\xd9D\\x00\\xc0\\rE\\x00P\\x1eE\\x00 \\xddD\\x00\\xb0\\x13E\\x00\\x80\\x1dE\\x00P\\x10E\\x00\\x10(E\\x00\\xa0\\x19E\\x00 \\xf5D\\x00 \\xf7D\\x00 \\xfbD\\x00\\xa0\\xcaD\\x00\\x80\\xddD\\x00\\x80\\x12E\\x00\\x900E\\x00\\x80\\x17E\\x00`\\xe6D\\x00p!E\\x00\\x90\\x06E\\x00\\xa0\\x1cE\\x00\\xd0\\x18E\\x00P\\x12E\\x00\\xc0\\xc5D\\x00P\\x0fE\\x00\\xb07E\\x00\\xc0\\x18E\\x00\\xb0\\x05E\\x00\\x10\\x1bE\\x00\\x90!E\\x00@\\xd2D\\x00\\xa0\\xe9D\\x000\\x05E\\x00\\x90\\x19E\\x00\\xb0\\x0eE\\x00\\x90\\x1cE\\x00\\xd0\\x01E\\x000\\x02E\\x00\\x808E\\x00 3E\\x00\\xe02E\\x00\\x80\\x11E\\x00p\\nE\\x00@gE\\x00\\xf0sE\\x00\\xe0dE\\x00\\xb8\\x84E\\x00\\xa0\\x90E\\x00\\x10\\x83E\\x00\\xd0bE\\x00\\x80.E\\x00P\\x13E\\x00\\x10KE\\x00\\x10:E\\x000\\x10E\\x00\\xe0\\xf4D\\x00\\xe0\\xfeD\\x00`0E\\x00\\xe0\\x13E\\x00 \\xffD\\x00\\x00\\x0eE\\x00 \\x07E\\x00\\x90\\x0fE\\x00\\x80\\x1aE\\x00\\x004E\\x00@RE\\x00\\x804E\\x00\\xa0\\xddD\\x00 \\xe2D\\x00\\xb0\\x04E\\x00P\\x0fE\\x00\\xe0\\x1eE\\x00\\xf0)E\\x00\\x00#E\\x00P!E\\x00\\x80\\x17E\\x00 \\x06E\\x00@\\x11E\\x00 \\x18E\\x00`\\x0eE\\x00@\\x8eD\\x00\\x00\\x18B\\x00\\x00\\xe0A\\x00\\x00\\xe0A\\x00\\x00\\x82B\\x00\\x00\\x94B\\x00\\x00\\x8cB\\x00\\x00\\x80B\\x00\\x00\\x94B\\x00\\x00\\x96B\\x00\\x00\\x94B\\x00\\x00\\x94B\\x00\\x00\\x8aB\\x00\\x00\\x8aB\\x00\\x00\\x8cB\\x00\\x00\\x8cB\\x00\\x00\\x8eB\\x00\\x00\\x8eB\\x00\\x00\\x90B\\x00\\x00\\x9aB\\x00\\x00\\xa0B\\x00\\x00\\xa4B\\x00\\x00\\x1eC\\x00\\xa0\\xa3D\\x00\\xa0\\x0bE\\x00@\\x15E\\x00\\x80\\xf2D\\x00\\x00\\xe5C\\x00\\x00|B\\x00\\x00|B\\x00\\x00tB\\x00\\x00|B\\x00\\x00\\x80B\\x00\\x00tB\\x00\\x00hB\\x00\\x00`B\\x00\\x00XB\\x00\\x00XB\\x00\\x00TB\\x00\\x00TB\\x00\\x00PB\\x00\\x00hB\\x00\\x00\\xaaB\\x00\\xc0\\x94D\\x00\\xe0\\x0cE\\x00p\\x13E\\x00\\xd0\\x0fE\\x00 \\x01E\\x00\\x80xD\\x00\\x00\\x1cC\\x00\\x00\\x8eB\\x00\\x00\\x98B\\x00\\x00\\x96B\\x00\\x00\\x92B\\x00\\x00\\x96B\\x00\\x00\\x96B\\x00@\\nD\\x00\\x00\\x9cD\\x00`\\xdcD\\x00\\xe0\\xeeD\\x00\\xa0\\xf2D\\x00\\xf0\\x03E\\x00p\\x00E\\x00\\x00\\x00E\\x00\\x80\\xf6D\\x00\\xd0\\x03E\\x00\\xd0\\rE\\x00\\x80\\x1cE\\x00P)E\\x00\\xe0 E\\x00\\xb0\"E\\x00\\xa0 E\\x00 \\xffD\\x00\\xb0\\x0fE\\x00\\x80&E\\x00\\xf0,E\\x00\\x802E\\x00\\xe0(E\\x00`\\rE\\x00 \\xf3D\\x00\\xa0\\rE\\x00\\xb0\\x1aE\\x00\\xc0\\xb7D\\x00\\x10\\x1fE\\x00p\\x1aE\\x00\\x00\\x1cE\\x00\\x00\\xfdC\\x00\\x00\\xb8B\\x00\\x00PB\\x00\\xc0xD\\x00\\xa0\\x10E\\x00@\\x17E\\x000\\x1eE\\x00@(D\\x00\\x00\\x04C\\x00\\x00\\x88B\\x00\\x00xB\\x00\\x00`B\\x00\\x00hB\\x00\\x00\\x8aB\\x00\\x00\\x92B\\x00\\x00\\nC\\x00\\x00\\xb0C\\x00\\x00DC\\x00\\x00HC\\x00\\xe0\\x97D\\x00\\xe0\\xc8D\\x00\\xe0\\x12E\\x00\\xe0+E\\x00\\xf0(E\\x00\\x80\\xd3D\\x00\\xa0\\xd4D\\x00 \\x14E\\x00\\xa0\\x1aE\\x00@\\xc4D\\x00\\x80\\xd4D\\x00@\\xe8D\\x00@\\x98D\\x00\\xc0\\x90D\\x00\\x80$E\\x00\\xb0(E\\x00@$E\\x00 $E\\x00\\xc0\\xe8D\\x00\\x90\\rE\\x00\\x80*E\\x00\\xd0#E\\x00\\x90\\x1cE\\x00\\x00 E\\x00@\\x08E\\x00p\\x15E\\x00\\x10\\x1cE\\x00@0E\\x00\\xd0%E\\x00P%E\\x00P$E\\x00\\x90\\x1cE\\x000\\'E\\x00 \\x12E\\x00\\x80\\x10E\\x00\\xe0\\x12E\\x00\\xe0\\x1cE\\x00\\xb0\\x11E\\x00\\x10\\x13E\\x00\\x10\\x10E\\x00P\\x00E\\x00\\xc0\\xf1D\\x000\\x00E\\x00p\\rE\\x00\\xf0\\x03E\\x00\\x80\\nE\\x00\\xd0\\x04E\\x00\\xf0\\x03E\\x00\\xc0\\xddD\\x00\\xe0\\xa9D\\x00@\\xb4D\\x000\\x18E\\x00\\xb0\\x00E\\x00\\x80\\xc2D\\x00\\x00\\x06E\\x00\\xf0\\x01E\\x00 \\xe1D\\x00\\x10eE\\x00\\xe8\\x9dE\\x00\\x10OE\\x00\\x80%E\\x00\\x00+E\\x00\\x90\\x1bE\\x00@\\xf8D\\x00\\xd0/E\\x00@:E\\x00\\xe0\\xffD\\x00\\x80\\x1dD\\x00\\x00\\x04B\\x00\\x00\\x80B\\x00\\x00\\x96B\\x00\\x00\\x8eB\\x00\\x00\\x8aB\\x00\\x00\\x94B\\x00\\x00\\x92B\\x00\\x00\\x8cB\\x00\\x00\\xa8B\\x00\\x00\\xaaB\\x00\\x00\\x92B\\x00@eD\\x00 \\x1eE\\x00\\xc0BE\\x00\\x00DE\\x00p8E\\x00\\xc0\\xbfD\\x00\\x10\\x18E\\x00\\x805E\\x00\\xc0\\x0eE\\x00`\\x11E\\x00\\xb0\\x18E\\x00\\x00 E\\x00@,E\\x00\\x10\\x19E\\x00\\xa0\"E\\x00@\\'E\\x00`-E\\x00p\\x1fE\\x00\\xa0\"E\\x00@\\x19E\\x00\\xa0\\x07E\\x00`\\xffD\\x00 \\rE\\x00\\xc0\\xf9D\\x00\\x80\\x06E\\x00\\x90\\x10E\\x00\\xe0\\xfbD\\x00\\xe0\\xddD\\x00\\xa0\\xf4D\\x00@\\xe7D\\x00\\xe0\\xbeD\\x00 \\xb1D\\x00\\x00\\xecD\\x00\\xd0\\x00E\\x00\\x00\\xfeD\\x00`\\xffD\\x000\\x08E\\x00`\\xe8D\\x00`\\xf1D\\x00@\\x10E\\x00@\\x16E\\x00\\x10\\'E\\x00\\x007E\\x00`;E\\x0000E\\x00\\xa0(E\\x00\\x00,E\\x00\\xd02E\\x00\\xe02E\\x00\\x801E\\x00\\xd0.E\\x00\\x80.E\\x0005E\\x00\\xb0?E\\x00\\x10-E\\x00\\xf0\\x13E\\x00\\xa0\\x15E\\x00\\xf0\\x14E\\x00`\\x15E\\x00\\xd0\\x14E\\x00`\\x0bE\\x00\\x90\\x05E\\x00\\x00\\xeeD\\x00`\\tE\\x00@\\xfcD\\x00\\xa0\\x05E\\x00\\xd0\\tE\\x00@\\xefD\\x00\\x00\\x01E\\x00\\x80\\xe3D\\x00\\x00\\xd1D\\x00@\\xd5D\\x00\\x00\\xe5D\\x00\\x80\\xddD\\x00\\x00\\xbdD\\x00\\xb0\\x0cE\\x00\\xb0\\x13E\\x00 \\rE\\x00`\\x07E\\x00`\\xf8D\\x00`\\x15E\\x00 \\x1dE\\x00\\x10\\x16E\\x000\\x0bE\\x00\\xe0\\xefD\\x00 \\xfcD\\x00 \\tE\\x00 \\x02E\\x00\\xf0\\x06E\\x00\\xe0\\x14E\\x00 \\nE\\x00\\xe0\\xf3D\\x00@\\xdeD\\x00\\xe0\\xd7D\\x00\\xc0\\xc9D\\x00@\\xe2D\\x00\\xa0\\xe3D\\x00 \\xe4D\\x00\\xe0\\xebD\\x00 \\x00E\\x00\\xa0\\rE\\x00`\\x0eE\\x00\\xc0\\xdcD\\x00\\x80\\xcfD\\x00\\x80\\xffD\\x00\\xa0\\x0bE\\x00`\\x00E\\x00`\\xceD\\x00 \\xcaD\\x00\\x00\\xd0D\\x00\\x00\\xd6D\\x00\\xc0\\xc2D\\x00\\x80\\xe6D\\x00\\xe0\\xbdD\\x00`\\xc3D\\x00\\xc0\\xd5D\\x00\\xa0\\xceD\\x00\\xc0\\xbdD\\x00@\\xe4D\\x00\\x00\\xd0D\\x00\\xe0\\xf4D\\x00@\\xd0D\\x00 \\xc4D\\x00 \\xaeD\\x00\\xa0\\x94D\\x00@\\x97D\\x00\\x00\\xa4D\\x00@\\xbfD\\x00\\xc0\\xdaD\\x00\\x00\\xe7D\\x00\\xe0\\xdbD\\x00\\xa0\\xdaD\\x00\\x80\\xc1D\\x00@\\xcdD\\x00\\x10\\tE\\x00\\x10\\x0cE\\x00\\x80\\xe6D\\x00`\\xe8D\\x00`\\xc9D\\x00`\\xb8D\\x00\\xe0\\xc2D\\x00\\xe0\\xb6D\\x00@\\xd0D\\x00\\xc0\\xe6D\\x00@\\xe8D\\x00\\xc0\\xefD\\x00\\xe0\\xebD\\x00@\\xfcD\\x00\\xc0\\x1dE\\x00\\x00\\x08E\\x00\\x00\\x04E\\x00`\\x01E\\x00@\\xceD\\x00\\xc0\\xb8D\\x00\\xa0\\x81D\\x00\\xe0\\x9dD\\x00\\xe0\\xf5D\\x00\\xe0\\x19E\\x00`\\x1aE\\x00\\x80\\x03E\\x00 \\xe6D\\x00\\x80\\xd3D\\x00\\xc0\\xcaD\\x00\\xa0\\xd5D\\x00 \\xf0D\\x00\\xe0\\x1dE\\x00@\\xcaD\\x00 \\xf8D\\x00`!E\\x00\\x90\\x01E\\x00@\\xf3D\\x00\\xa0\\xe9D\\x00\\xe0\\xefD\\x00\\x00\\xf4D\\x00\\x00\\xe4D\\x00\\xe0\\xecD\\x00\\x00\\nE\\x00\\x00\\xe3D\\x00\\x00\\xeaD\\x00\\xe0\\x15E\\x00 \\x1bE\\x00\\x90\\x12E\\x00\\xe0\\x0bE\\x00\\xe0\\xf9D\\x00\\xd0\\x03E\\x00\\xc0\\xe6D\\x00\\x80\\xf5D\\x00P\\x12E\\x00\\xc0\\x1bE\\x00\\x90#E\\x00\\x90\\x1dE\\x00\\xb0\\nE\\x00\\x80\\x11E\\x00\\xf0\\x10E\\x00\\xe0\\x0eE\\x000\\x01E\\x00@\\xebD\\x00\\xc0\\xecD\\x00@\\x02E\\x00\\xe0\\xc6D\\x00\\x80\\xd2C\\x00\\x00\\xcaB\\x00\\x00\\xfcC\\x00`\\xaeD\\x00\\x80\\xf8D\\x00\\x00\\xc2D\\x00\\xe0\\xc5D\\x00\\x80\\xd8D\\x00 \\xfbD\\x00\\x90\\x0bE\\x00\\xa0\\x0cE\\x00\\xc0\\xd0D\\x00\\x00\\xe2D\\x00 \\tE\\x00@\\xe9D\\x00\\xa0\\xfbD\\x00p\\x08E\\x000\\x19E\\x00`\\x10E\\x00`\\x01E\\x00\\x90\\x04E\\x00\\xb0\\x16E\\x00`\\x18E\\x00`\"E\\x00P\"E\\x00\\xf0\\x12E\\x00\\x90\\x05E\\x00\\xf0\\x02E\\x00\\xa0\\x04E\\x00\\xa0\\xf5D\\x00@\\xf7D\\x00`\\x13E\\x00@\\x11E\\x00`\\x14E\\x00\\x008E\\x00`NE\\x00\\xe0ZE\\x00\\xf0?E\\x00\\xd0\\x1cE\\x00P\\rE\\x00`\\x16E\\x00\\xe03E\\x00P-E\\x00\\xe0\\x1dE\\x00\\x00\\x0cE\\x00\\xc0\\xf9D\\x00\\xa0\\x0fE\\x00`\\x14E\\x00@\\x17E\\x00p\\x12E\\x00\\xe0\\rE\\x00\\xf0\\x13E\\x00P\\x19E\\x00\\x90!E\\x00\\xf0\\'E\\x00P\\x19E\\x00\\xc0&E\\x00\\xf00E\\x00\\x00&E\\x00@9E\\x00\\x807E\\x00 \"E\\x00\\xd0,E\\x00\\xd0,E\\x00\\x80\\x1fE\\x00\\xe0\\x02E\\x00\\x00\\xdaD\\x00\\x00\\xb0D\\x00`\\xb3D\\x00\\x00\\x0eE\\x00\\x00\\x13E\\x00\\x10\\x12E\\x00\\x10\\x14E\\x00 0E\\x00\\xf0(E\\x00@\\xefD\\x00\\x80\\xa3C\\x00\\x00\\xbaB\\x00\\x00\\xbaB\\x00\\x00\\x1cC\\x00\\xe0\\xc7D\\x00\\xc0\\xf5D\\x00\\xc0\\xfaD\\x00\\x00\\xf0D\\x00 \\xdaD\\x00\\xa0\\xcfD\\x00`\\xc9D\\x00\\xe0\\xe1D\\x00\\xa0\\x03E\\x00\\xc0\\xe4D\\x00\\x80\\xebD\\x00\\xe0\\xe8D\\x00\\xe0\\xa9D\\x00\\xc0\\xbdD\\x00@\\xdcD\\x00 \\x02E\\x00\\x80\\xe8D\\x00@\\xf4D\\x00\\x00\\xffD\\x00\\xc0\\tE\\x00`\\xecD\\x00@\\xd7D\\x00\\xe0\\x00E\\x00\\xc0\\x17E\\x00\\x00\\x14E\\x00\\xa0\\x18E\\x00\\xc0\\xf5D\\x00 \\xfaD\\x00P\\x05E\\x00\\xb0\\tE\\x00P\\x08E\\x00P\\x08E\\x00\\x00\\x01E\\x00\\x10\\x10E\\x00`\\x0bE\\x00\\x90\\x14E\\x00P\\x1eE\\x00\\x00(E\\x0002E\\x00\\x00\\x02E\\x00`\\xd9D\\x00@\\xb8D\\x00\\x80\\xd0D\\x00\\xe0\\xf9D\\x00@\\x07E\\x00\\xe0\\x0eE\\x00\\x90\\x00E\\x00@\\xf6D\\x00P\\x06E\\x00\\x80\\x16E\\x00\\xc0\\xfaD\\x00\\x80\\xd3D\\x00\\x00\\xe0D\\x000\\x15E\\x00\\xd0)E\\x00\\x10+E\\x000%E\\x00P\\x17E\\x00\\x80\\rE\\x00\\xf0\\x04E\\x000\\x00E\\x00\\x90\\x10E\\x00\\xc0\\x16E\\x00\\x80\\xcfD\\x00\\x00<C\\x00\\x00\\xcaC\\x00\\xa0\\xe5D\\x00\\xe0\\x04E\\x00 \\x11E\\x00@\\x05E\\x00\\xd0\\x07E\\x00\\xa0\\x10E\\x00\\x80\\xedD\\x00\\xa0\\xf8D\\x00 \\xeaD\\x00\\xc0\\x85D\\x00\\x00\\x1aD\\x00\\x00*C\\x00\\x00\\x9eB\\x00\\x00#C\\x00\\xc0\\xc6D\\x00\\x80 E\\x00\\x80\\xf9D\\x00\\xc0\\xecD\\x00\\xe0\\xf3D\\x00\\xe0\\x03E\\x00`\\xdeD\\x00`\\xf3D'"
      ]
     },
     "execution_count": 25,
     "metadata": {},
     "output_type": "execute_result"
    }
   ],
   "source": [
    "scanline"
   ]
  },
  {
   "cell_type": "markdown",
   "metadata": {},
   "source": [
    "## Creating Files"
   ]
  },
  {
   "cell_type": "code",
   "execution_count": 26,
   "metadata": {},
   "outputs": [
    {
     "name": "stdout",
     "output_type": "stream",
     "text": [
      "Driver GTiff supports Create() method.\n",
      "Driver GTiff supports CreateCopy() method.\n"
     ]
    }
   ],
   "source": [
    "fileformat = \"GTiff\"\n",
    "driver = gdal.GetDriverByName(fileformat)\n",
    "metadata = driver.GetMetadata()\n",
    "if metadata.get(gdal.DCAP_CREATE) == \"YES\":\n",
    "    print(\"Driver {} supports Create() method.\".format(fileformat))\n",
    "\n",
    "if metadata.get(gdal.DCAP_CREATECOPY) == \"YES\":\n",
    "    print(\"Driver {} supports CreateCopy() method.\".format(fileformat))"
   ]
  },
  {
   "cell_type": "code",
   "execution_count": null,
   "metadata": {},
   "outputs": [],
   "source": []
  }
 ],
 "metadata": {
  "kernelspec": {
   "display_name": "gdal",
   "language": "python",
   "name": "gdal"
  },
  "language_info": {
   "codemirror_mode": {
    "name": "ipython",
    "version": 3
   },
   "file_extension": ".py",
   "mimetype": "text/x-python",
   "name": "python",
   "nbconvert_exporter": "python",
   "pygments_lexer": "ipython3",
   "version": "3.7.5"
  }
 },
 "nbformat": 4,
 "nbformat_minor": 2
}

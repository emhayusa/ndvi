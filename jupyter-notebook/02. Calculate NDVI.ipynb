{
 "cells": [
  {
   "cell_type": "code",
   "execution_count": 1,
   "metadata": {},
   "outputs": [],
   "source": [
    "import numpy as np\n",
    "from numpy import nan_to_num, subtract, add, divide, multiply\n",
    "from osgeo import gdal, gdalconst\n",
    "from gdal import GetDriverByName"
   ]
  },
  {
   "cell_type": "code",
   "execution_count": 2,
   "metadata": {},
   "outputs": [],
   "source": [
    "def ndvi(in_nir_band, in_colour_band, in_rows, in_cols, in_geotransform, out_tiff, data_type=gdal.GDT_Float32):\n",
    "\n",
    "    \"\"\"\n",
    "    Performs an NDVI calculation given two input bands, as well as other information that can be retrieved from the\n",
    "    original image.\n",
    "    @param in_nir_band A GDAL band object representing the near-infrared image data.\n",
    "    @type in_nir_band GDALRasterBand\n",
    "    @param in_colour_band A GDAL band object representing the colour image data.\n",
    "    @type: in_colour_band GDALRasterBand\n",
    "    @param in_rows The number of rows in both input bands.\n",
    "    @type: in_rows int\n",
    "    @param in_cols The number of columns in both input bands.\n",
    "    @type: in_cols int\n",
    "    @param in_geotransform The geographic transformation to be applied to the output image.\n",
    "    @type in_geotransform Tuple (as returned by GetGeoTransform())\n",
    "    @param out_tiff Path to the desired output .tif file.\n",
    "    @type: out_tiff String (should end in \".tif\")\n",
    "    @param data_type Data type of output image.  Valid values are gdal.UInt16 and gdal.Float32.  Default is\n",
    "                      gdal.Float32\n",
    "    @type data_type GDALDataType\n",
    "    @return None\n",
    "    \"\"\"\n",
    "\n",
    "    # Read the input bands as numpy arrays.\n",
    "    np_nir = in_nir_band.ReadAsArray(0, 0, in_cols, in_rows)\n",
    "    np_colour = in_colour_band.ReadAsArray(0, 0, in_cols, in_rows)\n",
    "\n",
    "    # Convert the np arrays to 32-bit floating point to make sure division will occur properly.\n",
    "    np_nir_as32 = np_nir.astype(np.float32)\n",
    "    np_colour_as32 = np_colour.astype(np.float32)\n",
    "\n",
    "    # Calculate the NDVI formula.\n",
    "    numerator = subtract(np_nir_as32, np_colour_as32)\n",
    "    denominator = add(np_nir_as32, np_colour_as32)\n",
    "    result = divide(numerator, denominator)\n",
    "\n",
    "    # Remove any out-of-bounds areas\n",
    "    result[result == -0] = -99\n",
    "\n",
    "    # Initialize a geotiff driver.\n",
    "    geotiff = GetDriverByName('GTiff')\n",
    "\n",
    "    # If the desired output is an int16, map the domain [-1,1] to [0,255], create an int16 geotiff with one band and\n",
    "    # write the contents of the int16 NDVI calculation to it.  Otherwise, create a float32 geotiff with one band and\n",
    "    # write the contents of the float32 NDVI calculation to it.\n",
    "    if data_type == gdal.GDT_UInt16:\n",
    "        ndvi_int8 = multiply((result + 1), (2**7 - 1))\n",
    "        output = geotiff.Create(out_tiff, in_cols, in_rows, 1, gdal.GDT_Byte)\n",
    "        output_band = output.GetRasterBand(1)\n",
    "        output_band.SetNoDataValue(-99)\n",
    "        output_band.WriteArray(ndvi_int8)\n",
    "    elif data_type == gdal.GDT_Float32:\n",
    "        output = geotiff.Create(out_tiff, in_cols, in_rows, 1, gdal.GDT_Float32)\n",
    "        output_band = output.GetRasterBand(1)\n",
    "        output_band.SetNoDataValue(-99)\n",
    "        output_band.WriteArray(result)\n",
    "    else:\n",
    "        raise ValueError('Invalid output data type.  Valid types are gdal.UInt16 or gdal.Float32.')\n",
    "\n",
    "    # Set the geographic transformation as the input.\n",
    "    output.SetGeoTransform(in_geotransform)\n",
    "\n",
    "    return None"
   ]
  },
  {
   "cell_type": "code",
   "execution_count": 3,
   "metadata": {},
   "outputs": [],
   "source": [
    "import gdal\n",
    "from gdal import Open"
   ]
  },
  {
   "cell_type": "code",
   "execution_count": 4,
   "metadata": {},
   "outputs": [],
   "source": [
    "# Open NIR image and get its only band.\n",
    "nir_tiff = Open(r'../ndvi/NIR_IMAGE.tif')\n",
    "nir_band = nir_tiff.GetRasterBand(1)"
   ]
  },
  {
   "cell_type": "code",
   "execution_count": 6,
   "metadata": {},
   "outputs": [],
   "source": [
    "# Open red image and get its only band.\n",
    "red_tiff = Open(r'../ndvi/RED_IMAGE.tif')\n",
    "red_band = red_tiff.GetRasterBand(1)"
   ]
  },
  {
   "cell_type": "code",
   "execution_count": 7,
   "metadata": {},
   "outputs": [
    {
     "name": "stdout",
     "output_type": "stream",
     "text": [
      "(442174.4222797852, 30.020199756737572, 0.0, 4958813.451288713, 0.0, -29.999736089556496)\n"
     ]
    }
   ],
   "source": [
    "# Get the rows and cols from one of the images (both should always be the same)\n",
    "rows, cols, geotransform = nir_tiff.RasterYSize, nir_tiff.RasterXSize, nir_tiff.GetGeoTransform()\n",
    "print(geotransform)"
   ]
  },
  {
   "cell_type": "code",
   "execution_count": 8,
   "metadata": {},
   "outputs": [],
   "source": [
    "# Set an output for a 16-bit unsigned integer (0-255)\n",
    "out_tiff_int16 = r'NDVI_INT16.tif'"
   ]
  },
  {
   "cell_type": "code",
   "execution_count": 9,
   "metadata": {},
   "outputs": [],
   "source": [
    "# Set the output for a 32-bit floating point (-1 to 1)\n",
    "out_tiff_float32 = r'NDVI_FLOAT32.tif'"
   ]
  },
  {
   "cell_type": "code",
   "execution_count": 10,
   "metadata": {},
   "outputs": [
    {
     "name": "stderr",
     "output_type": "stream",
     "text": [
      "C:\\ProgramData\\Anaconda3\\envs\\gdal\\lib\\site-packages\\ipykernel_launcher.py:35: RuntimeWarning: divide by zero encountered in true_divide\n"
     ]
    }
   ],
   "source": [
    "# Run the function for unsigned 16-bit integer\n",
    "ndvi(nir_band, red_band, rows, cols, geotransform, out_tiff_int16, gdal.GDT_UInt16)"
   ]
  },
  {
   "cell_type": "code",
   "execution_count": 11,
   "metadata": {},
   "outputs": [
    {
     "name": "stderr",
     "output_type": "stream",
     "text": [
      "C:\\ProgramData\\Anaconda3\\envs\\gdal\\lib\\site-packages\\ipykernel_launcher.py:35: RuntimeWarning: divide by zero encountered in true_divide\n"
     ]
    }
   ],
   "source": [
    "# Run the function for 32-bit floating point\n",
    "ndvi(nir_band, red_band, rows, cols, geotransform, out_tiff_float32, gdal.GDT_Float32)"
   ]
  },
  {
   "cell_type": "code",
   "execution_count": null,
   "metadata": {},
   "outputs": [],
   "source": []
  }
 ],
 "metadata": {
  "kernelspec": {
   "display_name": "gdal",
   "language": "python",
   "name": "gdal"
  },
  "language_info": {
   "codemirror_mode": {
    "name": "ipython",
    "version": 3
   },
   "file_extension": ".py",
   "mimetype": "text/x-python",
   "name": "python",
   "nbconvert_exporter": "python",
   "pygments_lexer": "ipython3",
   "version": "3.7.5"
  }
 },
 "nbformat": 4,
 "nbformat_minor": 2
}
